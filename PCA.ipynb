{
 "cells": [
  {
   "cell_type": "code",
   "execution_count": 3,
   "id": "4bff2bfa-3ec9-422d-b6da-3cd63079ec11",
   "metadata": {},
   "outputs": [
    {
     "name": "stderr",
     "output_type": "stream",
     "text": [
      "C:\\Users\\sutar\\AppData\\Local\\Temp\\ipykernel_22396\\2731623554.py:15: DataConversionWarning: A column-vector y was passed when a 1d array was expected. Please change the shape of y to (n_samples,), for example using ravel().\n",
      "  rfc1.fit(x_train,y_train)\n",
      "C:\\Users\\sutar\\AppData\\Local\\Temp\\ipykernel_22396\\2731623554.py:46: DataConversionWarning: A column-vector y was passed when a 1d array was expected. Please change the shape of y to (n_samples,), for example using ravel().\n",
      "  rfc2.fit(x_train,y_train)\n"
     ]
    }
   ],
   "source": [
    "import pandas as pd\n",
    "from sklearn.datasets import load_breast_cancer\n",
    "\n",
    "lbc=load_breast_cancer()\n",
    "\n",
    "\n",
    "x=pd.DataFrame(lbc['data'],columns=lbc['feature_names'])\n",
    "y=pd.DataFrame(lbc['target'],columns=['type'])\n",
    "\n",
    "from sklearn.model_selection import train_test_split\n",
    "x_train,x_test,y_train,y_test=train_test_split(x,y,test_size=0.3,random_state=1234,stratify=y)\n",
    "\n",
    "from sklearn.ensemble import RandomForestClassifier\n",
    "rfc1=RandomForestClassifier(random_state=1234)\n",
    "rfc1.fit(x_train,y_train)\n",
    "y_predict=rfc1.predict(x_test)\n",
    "\n",
    "from sklearn.metrics import confusion_matrix\n",
    "cm=confusion_matrix(y_test,y_predict)\n",
    "\n",
    "score=rfc1.score(x_test,y_test)\n",
    "\n",
    "\n",
    "# NOW WITH PCA\n",
    "\n",
    "from sklearn.preprocessing import StandardScaler\n",
    "scalar=StandardScaler()\n",
    "\n",
    "x_scaled=scalar.fit_transform(x)\n",
    "\n",
    "x_scaled[:,0].mean()\n",
    "\n",
    "from sklearn.decomposition import PCA\n",
    "pca=PCA(n_components=5)\n",
    "# WE HAVE REDUCED 30 COLUMNS TO 5\n",
    "x_pca=pca.fit_transform(x_scaled)\n",
    "x_pca\n",
    "# pca is an instance of the PCA class.\n",
    "# n_components=5 specifies that the PCA should reduce the dataset to 5 principal components.\n",
    "\n",
    "from sklearn.model_selection import train_test_split\n",
    "x_train,x_test,y_train,y_test=train_test_split(x_pca,y,test_size=0.3,random_state=1234,stratify=y)\n",
    "\n",
    "from sklearn.ensemble import RandomForestClassifier\n",
    "rfc2=RandomForestClassifier(random_state=1234)\n",
    "rfc2.fit(x_train,y_train)\n",
    "y_predict1=rfc2.predict(x_test)\n",
    "\n",
    "score2=rfc2.score(x_test,y_test)\n",
    "cm2=confusion_matrix(y_test,y_predict1)"
   ]
  },
  {
   "cell_type": "code",
   "execution_count": 4,
   "id": "384c6e58-f102-4023-a2b7-bdb8d23bdbe1",
   "metadata": {},
   "outputs": [
    {
     "data": {
      "text/plain": [
       "0.9824561403508771"
      ]
     },
     "execution_count": 4,
     "metadata": {},
     "output_type": "execute_result"
    }
   ],
   "source": [
    "score"
   ]
  },
  {
   "cell_type": "code",
   "execution_count": 5,
   "id": "2b60e84e-a46b-440a-b566-1530b7016a43",
   "metadata": {},
   "outputs": [
    {
     "data": {
      "text/plain": [
       "0.9707602339181286"
      ]
     },
     "execution_count": 5,
     "metadata": {},
     "output_type": "execute_result"
    }
   ],
   "source": [
    "score2"
   ]
  },
  {
   "cell_type": "code",
   "execution_count": null,
   "id": "c341bca9-6f21-4d96-9d20-2f96a680955f",
   "metadata": {},
   "outputs": [],
   "source": []
  }
 ],
 "metadata": {
  "kernelspec": {
   "display_name": "Python 3 (ipykernel)",
   "language": "python",
   "name": "python3"
  },
  "language_info": {
   "codemirror_mode": {
    "name": "ipython",
    "version": 3
   },
   "file_extension": ".py",
   "mimetype": "text/x-python",
   "name": "python",
   "nbconvert_exporter": "python",
   "pygments_lexer": "ipython3",
   "version": "3.11.7"
  }
 },
 "nbformat": 4,
 "nbformat_minor": 5
}
