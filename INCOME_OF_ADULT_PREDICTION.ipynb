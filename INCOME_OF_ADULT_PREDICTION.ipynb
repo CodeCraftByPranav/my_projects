{
 "cells": [
  {
   "cell_type": "code",
   "execution_count": 10,
   "id": "47a89e79-edf9-486d-ad46-57115efbc209",
   "metadata": {},
   "outputs": [],
   "source": [
    "# -----------------------------------------------------------------\n",
    "# Decision Tree Classifier\n",
    "# Predict the income of an adult based on the census data\n",
    "# -----------------------------------------------------------------\n",
    "\n",
    "# Import libraries\n",
    "import pandas as pd\n",
    "\n",
    "# Read dataset\n",
    "data = pd.read_csv('adult_income.csv')\n",
    "\n",
    "# Check for Null values\n",
    "data.isnull().sum(axis=0)\n",
    "\n",
    "# Create Dummy variables\n",
    "data.dtypes\n",
    "data_prep = pd.get_dummies(data, drop_first=True)\n",
    "\n",
    "\n",
    "# Create X and Y Variables\n",
    "X = data_prep.iloc[:, :-1]\n",
    "Y = data_prep.iloc[:, -1]\n",
    "\n",
    "\n",
    "# Split the X and Y dataset into training and testing set\n",
    "from sklearn.model_selection import train_test_split\n",
    "X_train, X_test, Y_train, Y_test = \\\n",
    "train_test_split(X, Y, test_size = 0.3, random_state = 1234, stratify=Y)\n",
    "\n",
    "\n",
    "# Import and train classifier\n",
    "from sklearn.tree import DecisionTreeClassifier\n",
    "dtc = DecisionTreeClassifier(random_state=1234)\n",
    "dtc.fit(X_train, Y_train)\n",
    "\n",
    "\n",
    "# Test the model\n",
    "Y_predict = dtc.predict(X_test)\n",
    "\n",
    "# Evaluate the model\n",
    "from sklearn.metrics import confusion_matrix\n",
    "cm = confusion_matrix(Y_test, Y_predict)\n",
    "score = dtc.score(X_test, Y_test)\n",
    "\n",
    "\n",
    "\n",
    "\n",
    "\n"
   ]
  },
  {
   "cell_type": "code",
   "execution_count": 11,
   "id": "d068c533-25d6-4b42-b4eb-145cc80c27f2",
   "metadata": {},
   "outputs": [
    {
     "data": {
      "text/plain": [
       "0.7710965133906014"
      ]
     },
     "execution_count": 11,
     "metadata": {},
     "output_type": "execute_result"
    }
   ],
   "source": [
    "score"
   ]
  },
  {
   "cell_type": "code",
   "execution_count": null,
   "id": "821d4c80-12a0-43c8-ae70-b4d455f2d981",
   "metadata": {},
   "outputs": [],
   "source": []
  }
 ],
 "metadata": {
  "kernelspec": {
   "display_name": "Python 3 (ipykernel)",
   "language": "python",
   "name": "python3"
  },
  "language_info": {
   "codemirror_mode": {
    "name": "ipython",
    "version": 3
   },
   "file_extension": ".py",
   "mimetype": "text/x-python",
   "name": "python",
   "nbconvert_exporter": "python",
   "pygments_lexer": "ipython3",
   "version": "3.11.7"
  }
 },
 "nbformat": 4,
 "nbformat_minor": 5
}
